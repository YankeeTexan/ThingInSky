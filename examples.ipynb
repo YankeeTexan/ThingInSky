{
 "cells": [
  {
   "cell_type": "code",
   "execution_count": 7,
   "metadata": {},
   "outputs": [
    {
     "name": "stdout",
     "output_type": "stream",
     "text": [
      "C:\\Users\\Andrew\\Proj\\VisibleSpaceObjects\n",
      "EarthSatellite 'ISS (ZARYA)' number=25544 epoch=2020-01-20T11:39:18Z\n"
     ]
    }
   ],
   "source": [
    "from skyfield.api import Topos, load\n",
    "\n",
    "stations_url = r'tests\\data\\visible_satellites.txt'\n",
    "satellites = load.tle(stations_url)\n",
    "satellite = satellites['ISS (ZARYA)']\n",
    "print(satellite)"
   ]
  },
  {
   "cell_type": "code",
   "execution_count": 8,
   "metadata": {},
   "outputs": [
    {
     "name": "stdout",
     "output_type": "stream",
     "text": [
      "A.D. 2020-Jan-20 11:39:17.8306 UT\n"
     ]
    }
   ],
   "source": [
    "# Get the TLE Epoch\n",
    "print(satellite.epoch.utc_jpl())"
   ]
  },
  {
   "cell_type": "code",
   "execution_count": 12,
   "metadata": {},
   "outputs": [
    {
     "name": "stdout",
     "output_type": "stream",
     "text": [
      "2.380 days away from epoch\n"
     ]
    }
   ],
   "source": [
    "# Time since/until Epoch\n",
    "\n",
    "ts = load.timescale()\n",
    "t = ts.now()\n",
    "\n",
    "days = t - satellite.epoch\n",
    "print('{:.3f} days away from epoch'.format(days))\n",
    "\n",
    "# This would reload the TLE - would have to rig it up with Space-Track API\n",
    "#if abs(days) > 14:\n",
    "#    satellites = load.tle(stations_url, reload=True)\n",
    "#    satellite = satellites['ISS (ZARYA)']"
   ]
  },
  {
   "cell_type": "code",
   "execution_count": 13,
   "metadata": {},
   "outputs": [
    {
     "name": "stdout",
     "output_type": "stream",
     "text": [
      "[-1718.28477492  4241.04027751  5012.86317923]\n"
     ]
    }
   ],
   "source": [
    "# Generating a satellite's position\n",
    "# Returns x,y,z in Geocentric Celestial Reference System\n",
    "geocentric = satellite.at(t)\n",
    "print(geocentric.position.km)"
   ]
  },
  {
   "cell_type": "code",
   "execution_count": 14,
   "metadata": {},
   "outputs": [
    {
     "name": "stdout",
     "output_type": "stream",
     "text": [
      "Latitude: 47deg 44' 48.9\"\n",
      "Longitude: 39deg 13' 56.5\"\n",
      "Elevation (m): 420857\n"
     ]
    }
   ],
   "source": [
    "# Get the position beneath the satellite using the subpoint\n",
    "subpoint = geocentric.subpoint()\n",
    "print('Latitude:', subpoint.latitude)\n",
    "print('Longitude:', subpoint.longitude)\n",
    "print('Elevation (m):', int(subpoint.elevation.m))"
   ]
  },
  {
   "cell_type": "code",
   "execution_count": 15,
   "metadata": {},
   "outputs": [
    {
     "name": "stdout",
     "output_type": "stream",
     "text": [
      "Sum of 2 vectors:\n",
      " - Topos 28deg 52' 20.2\" N -48deg 09' 58.6\" E\n",
      " + EarthSatellite 'ISS (ZARYA)' number=25544 epoch=2020-01-20T11:39:18Z\n"
     ]
    }
   ],
   "source": [
    "# Determine whether the satellite is above or below the horizon\n",
    "aj = Topos('28.872266 N', '48.166266 W')\n",
    "difference = satellite - aj\n",
    "print(difference)"
   ]
  },
  {
   "cell_type": "code",
   "execution_count": 16,
   "metadata": {},
   "outputs": [
    {
     "name": "stdout",
     "output_type": "stream",
     "text": [
      "[-6799.64025458  1899.28139159  1961.06865192]\n"
     ]
    }
   ],
   "source": [
    "# access this relative position as x, y, z coordinates (from earth's center)\n",
    "topocentric = difference.at(t)\n",
    "print(topocentric.position.km)"
   ]
  },
  {
   "cell_type": "code",
   "execution_count": 17,
   "metadata": {},
   "outputs": [
    {
     "name": "stdout",
     "output_type": "stream",
     "text": [
      "-30deg 59' 09.3\"\n",
      "46deg 44' 37.8\"\n",
      "7327.221004831943\n"
     ]
    }
   ],
   "source": [
    "# ask the topocentric position for its altitude and azimuth coordinates\n",
    "# which tell you whether the satellite is above or below the horizon\n",
    "alt, az, distance = topocentric.altaz()\n",
    "\n",
    "if alt.degrees > 0:\n",
    "    print('The ISS is above the horizon')\n",
    "\n",
    "print(alt)\n",
    "print(az)\n",
    "print(distance.km)"
   ]
  },
  {
   "cell_type": "code",
   "execution_count": null,
   "metadata": {},
   "outputs": [],
   "source": []
  }
 ],
 "metadata": {
  "kernelspec": {
   "display_name": "Python 3",
   "language": "python",
   "name": "python3"
  },
  "language_info": {
   "codemirror_mode": {
    "name": "ipython",
    "version": 3
   },
   "file_extension": ".py",
   "mimetype": "text/x-python",
   "name": "python",
   "nbconvert_exporter": "python",
   "pygments_lexer": "ipython3",
   "version": "3.7.1"
  }
 },
 "nbformat": 4,
 "nbformat_minor": 1
}
